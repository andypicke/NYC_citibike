{
 "cells": [
  {
   "cell_type": "markdown",
   "metadata": {},
   "source": [
    "## Collect data and make dataframe w/ features and targets, for use in modeling.\n",
    "- This way I don't have to go through this everytime I try a new model, and it makes things cleaner so I can focus on modeling.\n",
    "- Some csv files are pre-made in xx, since the SQL queries to make them are a bit slow and I don't want to repeat them a lot."
   ]
  },
  {
   "cell_type": "code",
   "execution_count": 1,
   "metadata": {},
   "outputs": [],
   "source": [
    "# import libraries \n",
    "import sqlite3\n",
    "import pandas as pd\n",
    "import matplotlib.pyplot as plt\n",
    "import seaborn as sns\n",
    "import numpy as np\n",
    "%matplotlib inline\n",
    "\n",
    "# make connections to databases\n",
    "con = sqlite3.connect(\"data/citibike_database.db3\")\n",
    "con2 = sqlite3.connect('data/nyc_weather.db3')\n",
    "\n",
    "# change some plot defaults to make them look nicer\n",
    "plt.rcParams['font.size'] = 14\n",
    "plt.rcParams['axes.labelsize'] = 'large'\n",
    "plt.rcParams['xtick.labelsize'] = 'large'\n",
    "plt.rcParams['ytick.labelsize'] = 'large'\n",
    "plt.rcParams['lines.linewidth'] = 3"
   ]
  },
  {
   "cell_type": "markdown",
   "metadata": {},
   "source": [
    "### Load data w/ total number of rides each day ( this is our target variable), and also the wkday (one of our features)."
   ]
  },
  {
   "cell_type": "code",
   "execution_count": 3,
   "metadata": {},
   "outputs": [
    {
     "data": {
      "text/html": [
       "<div>\n",
       "<style scoped>\n",
       "    .dataframe tbody tr th:only-of-type {\n",
       "        vertical-align: middle;\n",
       "    }\n",
       "\n",
       "    .dataframe tbody tr th {\n",
       "        vertical-align: top;\n",
       "    }\n",
       "\n",
       "    .dataframe thead th {\n",
       "        text-align: right;\n",
       "    }\n",
       "</style>\n",
       "<table border=\"1\" class=\"dataframe\">\n",
       "  <thead>\n",
       "    <tr style=\"text-align: right;\">\n",
       "      <th></th>\n",
       "      <th>wkday</th>\n",
       "      <th>yday</th>\n",
       "      <th>Nrides</th>\n",
       "      <th>date</th>\n",
       "    </tr>\n",
       "  </thead>\n",
       "  <tbody>\n",
       "    <tr>\n",
       "      <th>0</th>\n",
       "      <td>0</td>\n",
       "      <td>182</td>\n",
       "      <td>16650</td>\n",
       "      <td>2013-07-01</td>\n",
       "    </tr>\n",
       "    <tr>\n",
       "      <th>1</th>\n",
       "      <td>1</td>\n",
       "      <td>183</td>\n",
       "      <td>22745</td>\n",
       "      <td>2013-07-02</td>\n",
       "    </tr>\n",
       "    <tr>\n",
       "      <th>2</th>\n",
       "      <td>2</td>\n",
       "      <td>184</td>\n",
       "      <td>21864</td>\n",
       "      <td>2013-07-03</td>\n",
       "    </tr>\n",
       "    <tr>\n",
       "      <th>3</th>\n",
       "      <td>3</td>\n",
       "      <td>185</td>\n",
       "      <td>22326</td>\n",
       "      <td>2013-07-04</td>\n",
       "    </tr>\n",
       "    <tr>\n",
       "      <th>4</th>\n",
       "      <td>4</td>\n",
       "      <td>186</td>\n",
       "      <td>21842</td>\n",
       "      <td>2013-07-05</td>\n",
       "    </tr>\n",
       "  </tbody>\n",
       "</table>\n",
       "</div>"
      ],
      "text/plain": [
       "   wkday  yday  Nrides       date\n",
       "0      0   182   16650 2013-07-01\n",
       "1      1   183   22745 2013-07-02\n",
       "2      2   184   21864 2013-07-03\n",
       "3      3   185   22326 2013-07-04\n",
       "4      4   186   21842 2013-07-05"
      ]
     },
     "execution_count": 3,
     "metadata": {},
     "output_type": "execute_result"
    }
   ],
   "source": [
    "# (previously queried from sqlite3 and saved as csv)\n",
    "df_rides = pd.read_csv('data/TotalRidesGroupedByDate.csv')\n",
    "df_rides['date'] = pd.to_datetime(df_rides.date)\n",
    "df_rides.drop(['year','month','day'],axis=1,inplace=True) # drop uneeded columns\n",
    "df_rides.head()"
   ]
  },
  {
   "cell_type": "markdown",
   "metadata": {},
   "source": [
    "### Load data w/ number of distinct stations each day (another feature)"
   ]
  },
  {
   "cell_type": "code",
   "execution_count": 4,
   "metadata": {},
   "outputs": [
    {
     "data": {
      "text/html": [
       "<div>\n",
       "<style scoped>\n",
       "    .dataframe tbody tr th:only-of-type {\n",
       "        vertical-align: middle;\n",
       "    }\n",
       "\n",
       "    .dataframe tbody tr th {\n",
       "        vertical-align: top;\n",
       "    }\n",
       "\n",
       "    .dataframe thead th {\n",
       "        text-align: right;\n",
       "    }\n",
       "</style>\n",
       "<table border=\"1\" class=\"dataframe\">\n",
       "  <thead>\n",
       "    <tr style=\"text-align: right;\">\n",
       "      <th></th>\n",
       "      <th>N_stations</th>\n",
       "      <th>date</th>\n",
       "    </tr>\n",
       "  </thead>\n",
       "  <tbody>\n",
       "    <tr>\n",
       "      <th>0</th>\n",
       "      <td>326</td>\n",
       "      <td>2013-07-01</td>\n",
       "    </tr>\n",
       "    <tr>\n",
       "      <th>1</th>\n",
       "      <td>327</td>\n",
       "      <td>2013-07-02</td>\n",
       "    </tr>\n",
       "    <tr>\n",
       "      <th>2</th>\n",
       "      <td>326</td>\n",
       "      <td>2013-07-03</td>\n",
       "    </tr>\n",
       "    <tr>\n",
       "      <th>3</th>\n",
       "      <td>324</td>\n",
       "      <td>2013-07-04</td>\n",
       "    </tr>\n",
       "    <tr>\n",
       "      <th>4</th>\n",
       "      <td>325</td>\n",
       "      <td>2013-07-05</td>\n",
       "    </tr>\n",
       "  </tbody>\n",
       "</table>\n",
       "</div>"
      ],
      "text/plain": [
       "   N_stations       date\n",
       "0         326 2013-07-01\n",
       "1         327 2013-07-02\n",
       "2         326 2013-07-03\n",
       "3         324 2013-07-04\n",
       "4         325 2013-07-05"
      ]
     },
     "execution_count": 4,
     "metadata": {},
     "output_type": "execute_result"
    }
   ],
   "source": [
    "# (previously queried from sqlite3 and saved as csv)\n",
    "df_sta = pd.read_csv('data/NDistinctStationsGroupedByDate.csv')\n",
    "df_sta['date'] = pd.to_datetime(df_sta['date'])\n",
    "#df_sta.drop(['year','month','day'],axis=1,inplace=True)\n",
    "df_sta.head()"
   ]
  },
  {
   "cell_type": "markdown",
   "metadata": {},
   "source": [
    "### Get daily weather ( more features) from database\n",
    "- Weather database is much smaller and queries are fast, so just do query here."
   ]
  },
  {
   "cell_type": "code",
   "execution_count": 5,
   "metadata": {},
   "outputs": [
    {
     "data": {
      "text/html": [
       "<div>\n",
       "<style scoped>\n",
       "    .dataframe tbody tr th:only-of-type {\n",
       "        vertical-align: middle;\n",
       "    }\n",
       "\n",
       "    .dataframe tbody tr th {\n",
       "        vertical-align: top;\n",
       "    }\n",
       "\n",
       "    .dataframe thead th {\n",
       "        text-align: right;\n",
       "    }\n",
       "</style>\n",
       "<table border=\"1\" class=\"dataframe\">\n",
       "  <thead>\n",
       "    <tr style=\"text-align: right;\">\n",
       "      <th></th>\n",
       "      <th>date</th>\n",
       "      <th>Tmean</th>\n",
       "      <th>precip_In</th>\n",
       "      <th>max_gust_mph</th>\n",
       "      <th>cloud_cover</th>\n",
       "    </tr>\n",
       "  </thead>\n",
       "  <tbody>\n",
       "    <tr>\n",
       "      <th>1</th>\n",
       "      <td>2013-01-02</td>\n",
       "      <td>29</td>\n",
       "      <td>0.0</td>\n",
       "      <td>28.0</td>\n",
       "      <td>7</td>\n",
       "    </tr>\n",
       "    <tr>\n",
       "      <th>2</th>\n",
       "      <td>2013-01-03</td>\n",
       "      <td>30</td>\n",
       "      <td>0.0</td>\n",
       "      <td>26.0</td>\n",
       "      <td>5</td>\n",
       "    </tr>\n",
       "    <tr>\n",
       "      <th>3</th>\n",
       "      <td>2013-01-04</td>\n",
       "      <td>36</td>\n",
       "      <td>0.0</td>\n",
       "      <td>31.0</td>\n",
       "      <td>3</td>\n",
       "    </tr>\n",
       "    <tr>\n",
       "      <th>4</th>\n",
       "      <td>2013-01-05</td>\n",
       "      <td>39</td>\n",
       "      <td>0.0</td>\n",
       "      <td>33.0</td>\n",
       "      <td>3</td>\n",
       "    </tr>\n",
       "    <tr>\n",
       "      <th>6</th>\n",
       "      <td>2013-01-07</td>\n",
       "      <td>42</td>\n",
       "      <td>0.0</td>\n",
       "      <td>23.0</td>\n",
       "      <td>1</td>\n",
       "    </tr>\n",
       "  </tbody>\n",
       "</table>\n",
       "</div>"
      ],
      "text/plain": [
       "        date  Tmean  precip_In  max_gust_mph  cloud_cover\n",
       "1 2013-01-02     29        0.0          28.0            7\n",
       "2 2013-01-03     30        0.0          26.0            5\n",
       "3 2013-01-04     36        0.0          31.0            3\n",
       "4 2013-01-05     39        0.0          33.0            3\n",
       "6 2013-01-07     42        0.0          23.0            1"
      ]
     },
     "execution_count": 5,
     "metadata": {},
     "output_type": "execute_result"
    }
   ],
   "source": [
    "query2 = \"SELECT date,mean_temp as Tmean,precip_In,max_gust_mph,cloud_cover  FROM temps \" \n",
    "df_wea = pd.read_sql_query(query2, con2)\n",
    "# I think 'T' means trace precip. I will convert these to 0\n",
    "df_wea.loc[df_wea.precip_In=='T'] = 0\n",
    "df_wea.loc[:,'precip_In'] = df_wea.astype({'precip_In':'float64'})\n",
    "df_wea['date'] = pd.to_datetime(df_wea['date'])\n",
    "df_wea = df_wea[df_wea.date.dt.year>=2013]\n",
    "df_wea.head()"
   ]
  },
  {
   "cell_type": "markdown",
   "metadata": {},
   "source": [
    "### Merge the separate datframes"
   ]
  },
  {
   "cell_type": "code",
   "execution_count": 6,
   "metadata": {},
   "outputs": [
    {
     "data": {
      "text/html": [
       "<div>\n",
       "<style scoped>\n",
       "    .dataframe tbody tr th:only-of-type {\n",
       "        vertical-align: middle;\n",
       "    }\n",
       "\n",
       "    .dataframe tbody tr th {\n",
       "        vertical-align: top;\n",
       "    }\n",
       "\n",
       "    .dataframe thead th {\n",
       "        text-align: right;\n",
       "    }\n",
       "</style>\n",
       "<table border=\"1\" class=\"dataframe\">\n",
       "  <thead>\n",
       "    <tr style=\"text-align: right;\">\n",
       "      <th></th>\n",
       "      <th>wkday</th>\n",
       "      <th>yday</th>\n",
       "      <th>Nrides</th>\n",
       "      <th>date</th>\n",
       "      <th>Tmean</th>\n",
       "      <th>precip_In</th>\n",
       "      <th>max_gust_mph</th>\n",
       "      <th>cloud_cover</th>\n",
       "      <th>N_stations</th>\n",
       "    </tr>\n",
       "  </thead>\n",
       "  <tbody>\n",
       "    <tr>\n",
       "      <th>0</th>\n",
       "      <td>0</td>\n",
       "      <td>182</td>\n",
       "      <td>16650</td>\n",
       "      <td>2013-07-01</td>\n",
       "      <td>76</td>\n",
       "      <td>0.73</td>\n",
       "      <td>26.0</td>\n",
       "      <td>8</td>\n",
       "      <td>326</td>\n",
       "    </tr>\n",
       "    <tr>\n",
       "      <th>1</th>\n",
       "      <td>1</td>\n",
       "      <td>183</td>\n",
       "      <td>22745</td>\n",
       "      <td>2013-07-02</td>\n",
       "      <td>78</td>\n",
       "      <td>0.06</td>\n",
       "      <td>23.0</td>\n",
       "      <td>7</td>\n",
       "      <td>327</td>\n",
       "    </tr>\n",
       "    <tr>\n",
       "      <th>2</th>\n",
       "      <td>2</td>\n",
       "      <td>184</td>\n",
       "      <td>21864</td>\n",
       "      <td>2013-07-03</td>\n",
       "      <td>80</td>\n",
       "      <td>0.96</td>\n",
       "      <td>23.0</td>\n",
       "      <td>7</td>\n",
       "      <td>326</td>\n",
       "    </tr>\n",
       "    <tr>\n",
       "      <th>3</th>\n",
       "      <td>3</td>\n",
       "      <td>185</td>\n",
       "      <td>22326</td>\n",
       "      <td>2013-07-04</td>\n",
       "      <td>84</td>\n",
       "      <td>0.00</td>\n",
       "      <td>24.0</td>\n",
       "      <td>4</td>\n",
       "      <td>324</td>\n",
       "    </tr>\n",
       "    <tr>\n",
       "      <th>4</th>\n",
       "      <td>4</td>\n",
       "      <td>186</td>\n",
       "      <td>21842</td>\n",
       "      <td>2013-07-05</td>\n",
       "      <td>85</td>\n",
       "      <td>0.00</td>\n",
       "      <td>23.0</td>\n",
       "      <td>1</td>\n",
       "      <td>325</td>\n",
       "    </tr>\n",
       "  </tbody>\n",
       "</table>\n",
       "</div>"
      ],
      "text/plain": [
       "   wkday  yday  Nrides       date  Tmean  precip_In  max_gust_mph  \\\n",
       "0      0   182   16650 2013-07-01     76       0.73          26.0   \n",
       "1      1   183   22745 2013-07-02     78       0.06          23.0   \n",
       "2      2   184   21864 2013-07-03     80       0.96          23.0   \n",
       "3      3   185   22326 2013-07-04     84       0.00          24.0   \n",
       "4      4   186   21842 2013-07-05     85       0.00          23.0   \n",
       "\n",
       "   cloud_cover  N_stations  \n",
       "0            8         326  \n",
       "1            7         327  \n",
       "2            7         326  \n",
       "3            4         324  \n",
       "4            1         325  "
      ]
     },
     "execution_count": 6,
     "metadata": {},
     "output_type": "execute_result"
    }
   ],
   "source": [
    "# join weather to rides data frame\n",
    "df_comb = pd.merge(df_rides,df_wea,left_on='date',right_on='date')\n",
    "# then merge to stations data frame\n",
    "df_comb = pd.merge(df_comb, df_sta, left_on='date',right_on='date')\n",
    "df_comb.head()"
   ]
  },
  {
   "cell_type": "markdown",
   "metadata": {},
   "source": [
    "### Create dummy variables for wkday"
   ]
  },
  {
   "cell_type": "code",
   "execution_count": 7,
   "metadata": {},
   "outputs": [
    {
     "data": {
      "text/html": [
       "<div>\n",
       "<style scoped>\n",
       "    .dataframe tbody tr th:only-of-type {\n",
       "        vertical-align: middle;\n",
       "    }\n",
       "\n",
       "    .dataframe tbody tr th {\n",
       "        vertical-align: top;\n",
       "    }\n",
       "\n",
       "    .dataframe thead th {\n",
       "        text-align: right;\n",
       "    }\n",
       "</style>\n",
       "<table border=\"1\" class=\"dataframe\">\n",
       "  <thead>\n",
       "    <tr style=\"text-align: right;\">\n",
       "      <th></th>\n",
       "      <th>yday</th>\n",
       "      <th>Nrides</th>\n",
       "      <th>date</th>\n",
       "      <th>Tmean</th>\n",
       "      <th>precip_In</th>\n",
       "      <th>max_gust_mph</th>\n",
       "      <th>cloud_cover</th>\n",
       "      <th>N_stations</th>\n",
       "      <th>wkday_1</th>\n",
       "      <th>wkday_2</th>\n",
       "      <th>wkday_3</th>\n",
       "      <th>wkday_4</th>\n",
       "      <th>wkday_5</th>\n",
       "      <th>wkday_6</th>\n",
       "    </tr>\n",
       "  </thead>\n",
       "  <tbody>\n",
       "    <tr>\n",
       "      <th>0</th>\n",
       "      <td>182</td>\n",
       "      <td>16650</td>\n",
       "      <td>2013-07-01</td>\n",
       "      <td>76</td>\n",
       "      <td>0.73</td>\n",
       "      <td>26.0</td>\n",
       "      <td>8</td>\n",
       "      <td>326</td>\n",
       "      <td>0</td>\n",
       "      <td>0</td>\n",
       "      <td>0</td>\n",
       "      <td>0</td>\n",
       "      <td>0</td>\n",
       "      <td>0</td>\n",
       "    </tr>\n",
       "    <tr>\n",
       "      <th>1</th>\n",
       "      <td>183</td>\n",
       "      <td>22745</td>\n",
       "      <td>2013-07-02</td>\n",
       "      <td>78</td>\n",
       "      <td>0.06</td>\n",
       "      <td>23.0</td>\n",
       "      <td>7</td>\n",
       "      <td>327</td>\n",
       "      <td>1</td>\n",
       "      <td>0</td>\n",
       "      <td>0</td>\n",
       "      <td>0</td>\n",
       "      <td>0</td>\n",
       "      <td>0</td>\n",
       "    </tr>\n",
       "    <tr>\n",
       "      <th>2</th>\n",
       "      <td>184</td>\n",
       "      <td>21864</td>\n",
       "      <td>2013-07-03</td>\n",
       "      <td>80</td>\n",
       "      <td>0.96</td>\n",
       "      <td>23.0</td>\n",
       "      <td>7</td>\n",
       "      <td>326</td>\n",
       "      <td>0</td>\n",
       "      <td>1</td>\n",
       "      <td>0</td>\n",
       "      <td>0</td>\n",
       "      <td>0</td>\n",
       "      <td>0</td>\n",
       "    </tr>\n",
       "    <tr>\n",
       "      <th>3</th>\n",
       "      <td>185</td>\n",
       "      <td>22326</td>\n",
       "      <td>2013-07-04</td>\n",
       "      <td>84</td>\n",
       "      <td>0.00</td>\n",
       "      <td>24.0</td>\n",
       "      <td>4</td>\n",
       "      <td>324</td>\n",
       "      <td>0</td>\n",
       "      <td>0</td>\n",
       "      <td>1</td>\n",
       "      <td>0</td>\n",
       "      <td>0</td>\n",
       "      <td>0</td>\n",
       "    </tr>\n",
       "    <tr>\n",
       "      <th>4</th>\n",
       "      <td>186</td>\n",
       "      <td>21842</td>\n",
       "      <td>2013-07-05</td>\n",
       "      <td>85</td>\n",
       "      <td>0.00</td>\n",
       "      <td>23.0</td>\n",
       "      <td>1</td>\n",
       "      <td>325</td>\n",
       "      <td>0</td>\n",
       "      <td>0</td>\n",
       "      <td>0</td>\n",
       "      <td>1</td>\n",
       "      <td>0</td>\n",
       "      <td>0</td>\n",
       "    </tr>\n",
       "  </tbody>\n",
       "</table>\n",
       "</div>"
      ],
      "text/plain": [
       "   yday  Nrides       date  Tmean  precip_In  max_gust_mph  cloud_cover  \\\n",
       "0   182   16650 2013-07-01     76       0.73          26.0            8   \n",
       "1   183   22745 2013-07-02     78       0.06          23.0            7   \n",
       "2   184   21864 2013-07-03     80       0.96          23.0            7   \n",
       "3   185   22326 2013-07-04     84       0.00          24.0            4   \n",
       "4   186   21842 2013-07-05     85       0.00          23.0            1   \n",
       "\n",
       "   N_stations  wkday_1  wkday_2  wkday_3  wkday_4  wkday_5  wkday_6  \n",
       "0         326        0        0        0        0        0        0  \n",
       "1         327        1        0        0        0        0        0  \n",
       "2         326        0        1        0        0        0        0  \n",
       "3         324        0        0        1        0        0        0  \n",
       "4         325        0        0        0        1        0        0  "
      ]
     },
     "execution_count": 7,
     "metadata": {},
     "output_type": "execute_result"
    }
   ],
   "source": [
    "# NOTE drop_first drops redundant column from dummy vars\n",
    "df_comb = pd.get_dummies(data=df_comb, columns=['wkday'],drop_first=True)\n",
    "df_comb.head()"
   ]
  },
  {
   "cell_type": "markdown",
   "metadata": {},
   "source": [
    "### Get holiday data (another feature)"
   ]
  },
  {
   "cell_type": "code",
   "execution_count": 8,
   "metadata": {},
   "outputs": [
    {
     "data": {
      "text/html": [
       "<div>\n",
       "<style scoped>\n",
       "    .dataframe tbody tr th:only-of-type {\n",
       "        vertical-align: middle;\n",
       "    }\n",
       "\n",
       "    .dataframe tbody tr th {\n",
       "        vertical-align: top;\n",
       "    }\n",
       "\n",
       "    .dataframe thead th {\n",
       "        text-align: right;\n",
       "    }\n",
       "</style>\n",
       "<table border=\"1\" class=\"dataframe\">\n",
       "  <thead>\n",
       "    <tr style=\"text-align: right;\">\n",
       "      <th></th>\n",
       "      <th>name</th>\n",
       "      <th>observed</th>\n",
       "      <th>public</th>\n",
       "    </tr>\n",
       "  </thead>\n",
       "  <tbody>\n",
       "    <tr>\n",
       "      <th>0</th>\n",
       "      <td>New Year's Day</td>\n",
       "      <td>2014-01-01</td>\n",
       "      <td>1</td>\n",
       "    </tr>\n",
       "    <tr>\n",
       "      <th>1</th>\n",
       "      <td>Martin Luther King, Jr. Day</td>\n",
       "      <td>2014-01-20</td>\n",
       "      <td>1</td>\n",
       "    </tr>\n",
       "    <tr>\n",
       "      <th>2</th>\n",
       "      <td>George Washington's Birthday</td>\n",
       "      <td>2014-02-17</td>\n",
       "      <td>1</td>\n",
       "    </tr>\n",
       "    <tr>\n",
       "      <th>3</th>\n",
       "      <td>Memorial Day</td>\n",
       "      <td>2014-05-26</td>\n",
       "      <td>1</td>\n",
       "    </tr>\n",
       "    <tr>\n",
       "      <th>4</th>\n",
       "      <td>Independence Day</td>\n",
       "      <td>2014-07-04</td>\n",
       "      <td>1</td>\n",
       "    </tr>\n",
       "  </tbody>\n",
       "</table>\n",
       "</div>"
      ],
      "text/plain": [
       "                           name   observed  public\n",
       "0                New Year's Day 2014-01-01       1\n",
       "1   Martin Luther King, Jr. Day 2014-01-20       1\n",
       "2  George Washington's Birthday 2014-02-17       1\n",
       "3                  Memorial Day 2014-05-26       1\n",
       "4              Independence Day 2014-07-04       1"
      ]
     },
     "execution_count": 8,
     "metadata": {},
     "output_type": "execute_result"
    }
   ],
   "source": [
    "query = \"SELECT * FROM holidays WHERE public=1 \"\n",
    "df_holi = pd.read_sql_query(query,con)\n",
    "df_holi['date'] = pd.to_datetime(df_holi.date)\n",
    "df_holi['observed'] = pd.to_datetime(df_holi.observed)\n",
    "df_holi.drop(['date','yday','year'],axis=1,inplace=True)\n",
    "df_holi.head()"
   ]
  },
  {
   "cell_type": "code",
   "execution_count": 9,
   "metadata": {},
   "outputs": [],
   "source": [
    "# Merge holidays w/ df_comb\n",
    "df_holi.drop('name',axis=1,inplace=True)\n",
    "df_comb = df_comb.merge(df_holi,left_on='date',right_on='observed',how='left')\n",
    "#df_comb.public.fillna(0,inplace=True)\n",
    "df_comb.drop('observed',axis=1,inplace=True)\n",
    "df_comb.public.fillna(0,inplace=True)"
   ]
  },
  {
   "cell_type": "code",
   "execution_count": 10,
   "metadata": {},
   "outputs": [
    {
     "data": {
      "text/html": [
       "<div>\n",
       "<style scoped>\n",
       "    .dataframe tbody tr th:only-of-type {\n",
       "        vertical-align: middle;\n",
       "    }\n",
       "\n",
       "    .dataframe tbody tr th {\n",
       "        vertical-align: top;\n",
       "    }\n",
       "\n",
       "    .dataframe thead th {\n",
       "        text-align: right;\n",
       "    }\n",
       "</style>\n",
       "<table border=\"1\" class=\"dataframe\">\n",
       "  <thead>\n",
       "    <tr style=\"text-align: right;\">\n",
       "      <th></th>\n",
       "      <th>yday</th>\n",
       "      <th>Nrides</th>\n",
       "      <th>date</th>\n",
       "      <th>Tmean</th>\n",
       "      <th>precip_In</th>\n",
       "      <th>max_gust_mph</th>\n",
       "      <th>cloud_cover</th>\n",
       "      <th>N_stations</th>\n",
       "      <th>wkday_1</th>\n",
       "      <th>wkday_2</th>\n",
       "      <th>wkday_3</th>\n",
       "      <th>wkday_4</th>\n",
       "      <th>wkday_5</th>\n",
       "      <th>wkday_6</th>\n",
       "      <th>public</th>\n",
       "    </tr>\n",
       "  </thead>\n",
       "  <tbody>\n",
       "    <tr>\n",
       "      <th>0</th>\n",
       "      <td>182</td>\n",
       "      <td>16650</td>\n",
       "      <td>2013-07-01</td>\n",
       "      <td>76</td>\n",
       "      <td>0.73</td>\n",
       "      <td>26.0</td>\n",
       "      <td>8</td>\n",
       "      <td>326</td>\n",
       "      <td>0</td>\n",
       "      <td>0</td>\n",
       "      <td>0</td>\n",
       "      <td>0</td>\n",
       "      <td>0</td>\n",
       "      <td>0</td>\n",
       "      <td>0.0</td>\n",
       "    </tr>\n",
       "    <tr>\n",
       "      <th>1</th>\n",
       "      <td>183</td>\n",
       "      <td>22745</td>\n",
       "      <td>2013-07-02</td>\n",
       "      <td>78</td>\n",
       "      <td>0.06</td>\n",
       "      <td>23.0</td>\n",
       "      <td>7</td>\n",
       "      <td>327</td>\n",
       "      <td>1</td>\n",
       "      <td>0</td>\n",
       "      <td>0</td>\n",
       "      <td>0</td>\n",
       "      <td>0</td>\n",
       "      <td>0</td>\n",
       "      <td>0.0</td>\n",
       "    </tr>\n",
       "    <tr>\n",
       "      <th>2</th>\n",
       "      <td>184</td>\n",
       "      <td>21864</td>\n",
       "      <td>2013-07-03</td>\n",
       "      <td>80</td>\n",
       "      <td>0.96</td>\n",
       "      <td>23.0</td>\n",
       "      <td>7</td>\n",
       "      <td>326</td>\n",
       "      <td>0</td>\n",
       "      <td>1</td>\n",
       "      <td>0</td>\n",
       "      <td>0</td>\n",
       "      <td>0</td>\n",
       "      <td>0</td>\n",
       "      <td>0.0</td>\n",
       "    </tr>\n",
       "    <tr>\n",
       "      <th>3</th>\n",
       "      <td>185</td>\n",
       "      <td>22326</td>\n",
       "      <td>2013-07-04</td>\n",
       "      <td>84</td>\n",
       "      <td>0.00</td>\n",
       "      <td>24.0</td>\n",
       "      <td>4</td>\n",
       "      <td>324</td>\n",
       "      <td>0</td>\n",
       "      <td>0</td>\n",
       "      <td>1</td>\n",
       "      <td>0</td>\n",
       "      <td>0</td>\n",
       "      <td>0</td>\n",
       "      <td>0.0</td>\n",
       "    </tr>\n",
       "    <tr>\n",
       "      <th>4</th>\n",
       "      <td>186</td>\n",
       "      <td>21842</td>\n",
       "      <td>2013-07-05</td>\n",
       "      <td>85</td>\n",
       "      <td>0.00</td>\n",
       "      <td>23.0</td>\n",
       "      <td>1</td>\n",
       "      <td>325</td>\n",
       "      <td>0</td>\n",
       "      <td>0</td>\n",
       "      <td>0</td>\n",
       "      <td>1</td>\n",
       "      <td>0</td>\n",
       "      <td>0</td>\n",
       "      <td>0.0</td>\n",
       "    </tr>\n",
       "  </tbody>\n",
       "</table>\n",
       "</div>"
      ],
      "text/plain": [
       "   yday  Nrides       date  Tmean  precip_In  max_gust_mph  cloud_cover  \\\n",
       "0   182   16650 2013-07-01     76       0.73          26.0            8   \n",
       "1   183   22745 2013-07-02     78       0.06          23.0            7   \n",
       "2   184   21864 2013-07-03     80       0.96          23.0            7   \n",
       "3   185   22326 2013-07-04     84       0.00          24.0            4   \n",
       "4   186   21842 2013-07-05     85       0.00          23.0            1   \n",
       "\n",
       "   N_stations  wkday_1  wkday_2  wkday_3  wkday_4  wkday_5  wkday_6  public  \n",
       "0         326        0        0        0        0        0        0     0.0  \n",
       "1         327        1        0        0        0        0        0     0.0  \n",
       "2         326        0        1        0        0        0        0     0.0  \n",
       "3         324        0        0        1        0        0        0     0.0  \n",
       "4         325        0        0        0        1        0        0     0.0  "
      ]
     },
     "execution_count": 10,
     "metadata": {},
     "output_type": "execute_result"
    }
   ],
   "source": [
    "df_comb.head()"
   ]
  },
  {
   "cell_type": "code",
   "execution_count": 11,
   "metadata": {},
   "outputs": [
    {
     "data": {
      "text/plain": [
       "0.0    1147\n",
       "1.0      29\n",
       "Name: public, dtype: int64"
      ]
     },
     "execution_count": 11,
     "metadata": {},
     "output_type": "execute_result"
    }
   ],
   "source": [
    "df_comb.public.value_counts()"
   ]
  },
  {
   "cell_type": "markdown",
   "metadata": {
    "collapsed": true
   },
   "source": [
    "### Plot some of the variables for quality control"
   ]
  },
  {
   "cell_type": "code",
   "execution_count": 12,
   "metadata": {},
   "outputs": [
    {
     "data": {
      "image/png": "[encoded data removed]",
      "text/plain": [
       "<Figure size 1008x576 with 1 Axes>"
      ]
     },
     "metadata": {
      "needs_background": "light"
     },
     "output_type": "display_data"
    }
   ],
   "source": [
    "plt.figure(figsize=(14,8))\n",
    "plt.plot(df_comb.date, df_comb.Nrides,'.');\n",
    "plt.xlabel('Yearday')\n",
    "plt.ylabel('Total # Rides');"
   ]
  },
  {
   "cell_type": "code",
   "execution_count": null,
   "metadata": {},
   "outputs": [],
   "source": []
  },
  {
   "cell_type": "code",
   "execution_count": 13,
   "metadata": {},
   "outputs": [
    {
     "data": {
      "image/png": "[encoded data removed]",
      "text/plain": [
       "<Figure size 1008x576 with 1 Axes>"
      ]
     },
     "metadata": {
      "needs_background": "light"
     },
     "output_type": "display_data"
    }
   ],
   "source": [
    "# Plot # stations vs yday (only counts tations that were used that day, so not necessarily\n",
    "# all stations in service)\n",
    "# NOTE spikes are likely days where not many rides taken\n",
    "# should smooth these?\n",
    "plt.figure(figsize=(14,8))\n",
    "plt.plot(df_comb.date, df_comb.N_stations, '.');\n",
    "plt.xlabel('Yearday')\n",
    "plt.ylabel('# Stations Used');\n",
    "plt.title('Number of stations ');"
   ]
  },
  {
   "cell_type": "code",
   "execution_count": 14,
   "metadata": {},
   "outputs": [
    {
     "data": {
      "image/png": "[encoded data removed]",
      "text/plain": [
       "<Figure size 1008x576 with 1 Axes>"
      ]
     },
     "metadata": {
      "needs_background": "light"
     },
     "output_type": "display_data"
    }
   ],
   "source": [
    "# Plot mean temperatures\n",
    "plt.figure(figsize=(14,8))\n",
    "plt.plot(df_comb.date, df_comb.Tmean,'.');\n",
    "plt.xlabel('Yearday')\n",
    "plt.ylabel('Mean Temperature');\n",
    "plt.title('Mean temperatures ' );"
   ]
  },
  {
   "cell_type": "markdown",
   "metadata": {},
   "source": [
    "### Now write df_comb to csv for loading during modeling"
   ]
  },
  {
   "cell_type": "code",
   "execution_count": 15,
   "metadata": {},
   "outputs": [
    {
     "name": "stdout",
     "output_type": "stream",
     "text": [
      "<class 'pandas.core.frame.DataFrame'>\n",
      "Int64Index: 1176 entries, 0 to 1175\n",
      "Data columns (total 15 columns):\n",
      "yday            1176 non-null int64\n",
      "Nrides          1176 non-null int64\n",
      "date            1176 non-null datetime64[ns]\n",
      "Tmean           1176 non-null int64\n",
      "precip_In       1176 non-null float64\n",
      "max_gust_mph    1173 non-null float64\n",
      "cloud_cover     1176 non-null int64\n",
      "N_stations      1176 non-null int64\n",
      "wkday_1         1176 non-null uint8\n",
      "wkday_2         1176 non-null uint8\n",
      "wkday_3         1176 non-null uint8\n",
      "wkday_4         1176 non-null uint8\n",
      "wkday_5         1176 non-null uint8\n",
      "wkday_6         1176 non-null uint8\n",
      "public          1176 non-null float64\n",
      "dtypes: datetime64[ns](1), float64(3), int64(5), uint8(6)\n",
      "memory usage: 98.8 KB\n"
     ]
    }
   ],
   "source": [
    "df_comb.info()"
   ]
  },
  {
   "cell_type": "code",
   "execution_count": 16,
   "metadata": {},
   "outputs": [],
   "source": [
    "df_comb.to_csv('data/data_comb.csv',index=False)"
   ]
  },
  {
   "cell_type": "code",
   "execution_count": null,
   "metadata": {},
   "outputs": [],
   "source": []
  },
  {
   "cell_type": "code",
   "execution_count": null,
   "metadata": {},
   "outputs": [],
   "source": []
  },
  {
   "cell_type": "code",
   "execution_count": null,
   "metadata": {},
   "outputs": [],
   "source": []
  },
  {
   "cell_type": "code",
   "execution_count": null,
   "metadata": {},
   "outputs": [],
   "source": []
  },
  {
   "cell_type": "code",
   "execution_count": null,
   "metadata": {},
   "outputs": [],
   "source": []
  },
  {
   "cell_type": "code",
   "execution_count": null,
   "metadata": {},
   "outputs": [],
   "source": []
  },
  {
   "cell_type": "code",
   "execution_count": null,
   "metadata": {},
   "outputs": [],
   "source": []
  }
 ],
 "metadata": {
  "kernelspec": {
   "display_name": "Python 3",
   "language": "python",
   "name": "python3"
  },
  "language_info": {
   "codemirror_mode": {
    "name": "ipython",
    "version": 3
   },
   "file_extension": ".py",
   "mimetype": "text/x-python",
   "name": "python",
   "nbconvert_exporter": "python",
   "pygments_lexer": "ipython3",
   "version": "3.6.6"
  }
 },
 "nbformat": 4,
 "nbformat_minor": 2
}
