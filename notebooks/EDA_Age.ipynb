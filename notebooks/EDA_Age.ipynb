{
 "cells": [
  {
   "cell_type": "code",
   "execution_count": null,
   "metadata": {},
   "outputs": [],
   "source": [
    "## Does age of rider have an effect?\n",
    "\n",
    "### Look at unique age values to check for outliers first\n",
    "- Some birth years is in 1800's! Error? Probably recorded 18 instead of 19 in birth year?\n",
    "\n",
    "\n",
    "query = 'SELECT DISTINCT birth_year FROM rides ORDER BY birth_year'\n",
    "df = pd.read_sql_query(query,con)\n",
    "df.head()\n",
    "\n",
    "\n",
    "import numpy as np\n",
    "df.birth_year[0]=np.nan\n",
    "df.birth_year[-1]=np.nan\n",
    "df.birth_year[185]=np.nan\n",
    "df.info()\n",
    "\n",
    "\n",
    "df.birth_year=df.birth_year.dropna().astype('float64')\n",
    "df['age'] = 2017-df.birth_year\n",
    "df.info()\n",
    "#df.describe()\n",
    "\n",
    "\n",
    "plt.hist(df.dropna().age)\n",
    "plt.xlabel('Age (in 2017)');\n",
    "plt.ylabel('count');\n",
    "\n",
    "\n",
    "query = 'SELECT birth_year, COUNT(*) as num_rides FROM rides WHERE birth_year != \"None\" AND birth_year != \"\\\\N\" GROUP BY birth_year'\n",
    "df = pd.read_sql_query(query,con)\n",
    "df.tail()\n",
    "\n",
    "old = df.dropna().age[df.dropna().age>100]\n",
    "len(old)\n",
    "\n",
    "df['birth_year']=df['birth_year'].astype('float64')\n",
    "df.info()\n",
    "\n",
    "df2 = df.loc[df.age<100]\n",
    "plt.plot(df2.age, df2.num_rides)\n",
    "\n",
    "\n"
   ]
  }
 ],
 "metadata": {
  "kernelspec": {
   "display_name": "Python 3",
   "language": "python",
   "name": "python3"
  },
  "language_info": {
   "codemirror_mode": {
    "name": "ipython",
    "version": 3
   },
   "file_extension": ".py",
   "mimetype": "text/x-python",
   "name": "python",
   "nbconvert_exporter": "python",
   "pygments_lexer": "ipython3",
   "version": "3.6.5"
  }
 },
 "nbformat": 4,
 "nbformat_minor": 2
}
