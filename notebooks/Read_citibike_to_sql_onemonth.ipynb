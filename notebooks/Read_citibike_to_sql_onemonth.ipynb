{
 "cells": [
  {
   "cell_type": "markdown",
   "metadata": {},
   "source": [
    "## This notebook is for reading just one or a few monthly files to sql, rather than running the entire read_citibike_monthly_to_sql.py script, which takes a long time\n",
    "- Was missing Mar 2014 for some reason"
   ]
  },
  {
   "cell_type": "code",
   "execution_count": 1,
   "metadata": {
    "collapsed": true
   },
   "outputs": [],
   "source": [
    "# Script to read all monthly citibike files to sqlite3 database\n",
    "\n",
    "# Assumes Monthly csv files already downloaded\n",
    "\n",
    "# Also assumes empty database has be created. If the table already exists,\n",
    "# this will add data to it\n",
    "\n",
    "# Separates data into 2 tables: 'rides' and 'stations', which can be joined on\n",
    "# w on the station id later if needed\n",
    "\n",
    "import pandas as pd\n",
    "import sqlite3\n",
    "import glob\n",
    "\n",
    "def clean_citibike_monthly(dat):\n",
    "    dat.rename(columns=lambda x: x.replace(' ', '_'), inplace=True)\n",
    "    dat.columns = map(str.lower, dat.columns)\n",
    "    dat.starttime = pd.to_datetime(dat.starttime)\n",
    "    dat.stoptime  = pd.to_datetime(dat.stoptime)\n",
    "    dat['gender'] = dat['gender'].astype('category')\n",
    "    dat['usertype'] = dat['usertype'].astype('category')\n",
    "    dat['day'] = dat.starttime.dt.day\n",
    "    dat['month'] = dat.starttime.dt.month\n",
    "    dat['year']  = dat.starttime.dt.year\n",
    "    dat['yday']  = dat.starttime.dt.dayofyear\n",
    "    dat['wkday'] = dat.starttime.dt.dayofweek\n",
    "    dat['hour']  = dat.starttime.dt.hour\n",
    "    return dat"
   ]
  },
  {
   "cell_type": "code",
   "execution_count": 4,
   "metadata": {
    "collapsed": false
   },
   "outputs": [
    {
     "data": {
      "text/plain": [
       "['data/historical/2014-03 - Citi Bike trip data.csv']"
      ]
     },
     "execution_count": 4,
     "metadata": {},
     "output_type": "execute_result"
    }
   ],
   "source": [
    "flist = glob.glob('data/historical/*data.csv')\n",
    "\n",
    "flist = ['data/historical/2014-03 - Citi Bike trip data.csv']\n",
    "flist"
   ]
  },
  {
   "cell_type": "code",
   "execution_count": 5,
   "metadata": {
    "collapsed": false
   },
   "outputs": [
    {
     "name": "stdout",
     "output_type": "stream",
     "text": [
      "wokring on data/historical/2014-03 - Citi Bike trip data.csv\n",
      "reading chunk\n",
      "reading chunk\n",
      "reading chunk\n",
      "reading chunk\n",
      "reading chunk\n",
      "done reading data\n",
      "making stations table distinct\n"
     ]
    }
   ],
   "source": [
    "## Make sure database is empty before running this (otherwise will append on)\n",
    "\n",
    "non_station_vars = ['tripduration','starttime','stoptime','start_station_id','end_station_id','bikeid','usertype','birth_year','gender','day','month','year','yday','wkday','hour']\n",
    "sta_start_vars = ['start_station_id','start_station_name','start_station_latitude','start_station_longitude']\n",
    "sta_end_vars = ['end_station_id','end_station_name','end_station_latitude','end_station_longitude']\n",
    "\n",
    "con = sqlite3.connect(\"data/citibike_database.db3\")\n",
    "\n",
    "for fname in flist:\n",
    "    print('wokring on ' + fname)\n",
    "\n",
    "    reader = pd.read_csv(fname,parse_dates=True,chunksize=100000)\n",
    "\n",
    "    for chunk in reader:\n",
    "        print('reading chunk')\n",
    "\n",
    "        # some names change starting 2016/10 ; make them same as previous names\n",
    "        if any(chunk.columns.isin(['Trip Duration'])):\n",
    "            chunk.rename(columns={'Trip Duration':'tripduration'},inplace=True)\n",
    "        if any(chunk.columns.isin(['Start Time'])):\n",
    "            chunk.rename(columns={'Start Time':'starttime'},inplace=True)\n",
    "        if any(chunk.columns.isin(['Stop Time'])):\n",
    "            chunk.rename(columns={'Stop Time':'stoptime'},inplace=True)\n",
    "        if any(chunk.columns.isin(['Bike ID'])):\n",
    "            chunk.rename(columns={'Bike ID':'bikeid'},inplace=True)\n",
    "        if any(chunk.columns.isin(['User Type'])):\n",
    "            chunk.rename(columns={'User Type':'usertype'},inplace=True)\n",
    "\n",
    "\n",
    "        dat = clean_citibike_monthly(chunk)\n",
    "        dat2 = dat[non_station_vars]\n",
    "        #print('adding ' + fname + ' to sql database')\n",
    "        dat2.to_sql(\"rides\",con,if_exists='append',index=False)\n",
    "        del dat2\n",
    "        df_start = dat[sta_start_vars]\n",
    "        df_end = dat[sta_end_vars]\n",
    "        del chunk\n",
    "        del dat\n",
    "        df_start.columns = ['id','name','lat','lon']\n",
    "        df_end.columns = ['id','name','lat','lon']\n",
    "        df_comb = pd.concat([df_start,df_end])\n",
    "        del df_start\n",
    "        del df_end\n",
    "        df_comb.drop_duplicates(inplace=True)\n",
    "        df_comb.to_sql(\"stations\",con,if_exists='append',index=False)\n",
    "        del df_comb\n",
    "\n",
    "    del reader\n",
    "\n",
    "print('done reading data')\n",
    "\n",
    "print('making stations table distinct')\n",
    "# Get distinct rows from 'stations' table and make new table with just those (replace existing table)\n",
    "stations_dist = pd.read_sql_query(\"SELECT DISTINCT * FROM stations\",con)\n",
    "stations_dist.to_sql(\"stations\",con,if_exists='replace',index=False)\n",
    "\n",
    "con.close()"
   ]
  },
  {
   "cell_type": "code",
   "execution_count": null,
   "metadata": {
    "collapsed": true
   },
   "outputs": [],
   "source": []
  }
 ],
 "metadata": {
  "kernelspec": {
   "display_name": "Python 3",
   "language": "python",
   "name": "python3"
  },
  "language_info": {
   "codemirror_mode": {
    "name": "ipython",
    "version": 3
   },
   "file_extension": ".py",
   "mimetype": "text/x-python",
   "name": "python",
   "nbconvert_exporter": "python",
   "pygments_lexer": "ipython3",
   "version": "3.6.0"
  }
 },
 "nbformat": 4,
 "nbformat_minor": 2
}
