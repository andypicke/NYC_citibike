{
 "cells": [
  {
   "cell_type": "markdown",
   "metadata": {},
   "source": [
    "# Interacting with SQL database through python and pandas\n",
    "\n"
   ]
  },
  {
   "cell_type": "markdown",
   "metadata": {},
   "source": [
    "When you're working with small enough datasets, you can simply load the data into memmory and work with it in python. But sometimes you have so much data that loading it into memory is either impossible or very slow. In that case, storing your data in a [SQL](https://en.wikipedia.org/wiki/SQL) database might be a good option. A SQL database allows you to run queries on large datasets much more efficiently than if the data was stored in csv format.\n",
    "\n",
    "I’m currently working on a project where the amount of data was too much to work with in python all at once, so I decided to instead store my data in a SQL database. I'm doing my analysis and visualization in python, so I also wanted to learn how to do all this from python. In this post, i'll go over an example of how to add data to a SQL database and query the database in python using Pandas. It’s actually very easy!\n",
    "\n",
    "First you need to create a database to add to or read from. I’m using [SQLite](https://en.wikipedia.org/wiki/SQLite), because it is simple and easy, but you can work with pretty much any SQL variant in python (for working with types other than SQLite in Pandas, you need the SQLAlchemy package (<https://pandas.pydata.org/pandas-docs/stable/io.html#sql-queries>). I created my empty database in [SQLiteStudio](https://sqlitestudio.pl/index.rvt). \n",
    "\n",
    "Next we need to add some tables and data. You could create the tables in SQLiteStudio first and then add data to them, but I will create the tables from python. This is nice because it automatically names all the columns, and you have a script that will reproduce everything. \n",
    "\n",
    "First we need to open a connection to the database. My databse is called 'sqlite_example.db3'. We import the sqlite3 package and use it to connect to the database."
   ]
  },
  {
   "cell_type": "code",
   "execution_count": 1,
   "metadata": {
    "collapsed": false
   },
   "outputs": [],
   "source": [
    "import sqlite3 # use a different test database??\n",
    "con = sqlite3.connect(\"/Users/Andy/sqlite_example.db3\")"
   ]
  },
  {
   "cell_type": "markdown",
   "metadata": {},
   "source": [
    "Next i'll read in some of the data i'm working with, historical ridership for the citibike bike-rental program in NYC. I've already downloaded the data as a csv file."
   ]
  },
  {
   "cell_type": "code",
   "execution_count": 2,
   "metadata": {
    "collapsed": false
   },
   "outputs": [
    {
     "data": {
      "text/html": [
       "<div>\n",
       "<table border=\"1\" class=\"dataframe\">\n",
       "  <thead>\n",
       "    <tr style=\"text-align: right;\">\n",
       "      <th></th>\n",
       "      <th>tripduration</th>\n",
       "      <th>starttime</th>\n",
       "      <th>stoptime</th>\n",
       "      <th>start station id</th>\n",
       "      <th>start station name</th>\n",
       "      <th>start station latitude</th>\n",
       "      <th>start station longitude</th>\n",
       "      <th>end station id</th>\n",
       "      <th>end station name</th>\n",
       "      <th>end station latitude</th>\n",
       "      <th>end station longitude</th>\n",
       "      <th>bikeid</th>\n",
       "      <th>usertype</th>\n",
       "      <th>birth year</th>\n",
       "      <th>gender</th>\n",
       "    </tr>\n",
       "  </thead>\n",
       "  <tbody>\n",
       "    <tr>\n",
       "      <th>0</th>\n",
       "      <td>949</td>\n",
       "      <td>2014-03-01 00:00:16</td>\n",
       "      <td>2014-03-01 00:16:05</td>\n",
       "      <td>317</td>\n",
       "      <td>E 6 St &amp; Avenue B</td>\n",
       "      <td>40.724537</td>\n",
       "      <td>-73.981854</td>\n",
       "      <td>284</td>\n",
       "      <td>Greenwich Ave &amp; 8 Ave</td>\n",
       "      <td>40.739017</td>\n",
       "      <td>-74.002638</td>\n",
       "      <td>17440</td>\n",
       "      <td>Subscriber</td>\n",
       "      <td>1942</td>\n",
       "      <td>1</td>\n",
       "    </tr>\n",
       "    <tr>\n",
       "      <th>1</th>\n",
       "      <td>533</td>\n",
       "      <td>2014-03-01 00:00:57</td>\n",
       "      <td>2014-03-01 00:09:50</td>\n",
       "      <td>457</td>\n",
       "      <td>Broadway &amp; W 58 St</td>\n",
       "      <td>40.766953</td>\n",
       "      <td>-73.981693</td>\n",
       "      <td>441</td>\n",
       "      <td>E 52 St &amp; 2 Ave</td>\n",
       "      <td>40.756014</td>\n",
       "      <td>-73.967416</td>\n",
       "      <td>20855</td>\n",
       "      <td>Subscriber</td>\n",
       "      <td>1960</td>\n",
       "      <td>1</td>\n",
       "    </tr>\n",
       "    <tr>\n",
       "      <th>2</th>\n",
       "      <td>122</td>\n",
       "      <td>2014-03-01 00:01:06</td>\n",
       "      <td>2014-03-01 00:03:08</td>\n",
       "      <td>146</td>\n",
       "      <td>Hudson St &amp; Reade St</td>\n",
       "      <td>40.716250</td>\n",
       "      <td>-74.009106</td>\n",
       "      <td>276</td>\n",
       "      <td>Duane St &amp; Greenwich St</td>\n",
       "      <td>40.717488</td>\n",
       "      <td>-74.010455</td>\n",
       "      <td>15822</td>\n",
       "      <td>Subscriber</td>\n",
       "      <td>1984</td>\n",
       "      <td>1</td>\n",
       "    </tr>\n",
       "    <tr>\n",
       "      <th>3</th>\n",
       "      <td>134</td>\n",
       "      <td>2014-03-01 00:01:14</td>\n",
       "      <td>2014-03-01 00:03:28</td>\n",
       "      <td>146</td>\n",
       "      <td>Hudson St &amp; Reade St</td>\n",
       "      <td>40.716250</td>\n",
       "      <td>-74.009106</td>\n",
       "      <td>276</td>\n",
       "      <td>Duane St &amp; Greenwich St</td>\n",
       "      <td>40.717488</td>\n",
       "      <td>-74.010455</td>\n",
       "      <td>17793</td>\n",
       "      <td>Subscriber</td>\n",
       "      <td>1985</td>\n",
       "      <td>1</td>\n",
       "    </tr>\n",
       "    <tr>\n",
       "      <th>4</th>\n",
       "      <td>997</td>\n",
       "      <td>2014-03-01 00:01:18</td>\n",
       "      <td>2014-03-01 00:17:55</td>\n",
       "      <td>150</td>\n",
       "      <td>E 2 St &amp; Avenue C</td>\n",
       "      <td>40.720874</td>\n",
       "      <td>-73.980858</td>\n",
       "      <td>461</td>\n",
       "      <td>E 20 St &amp; 2 Ave</td>\n",
       "      <td>40.735877</td>\n",
       "      <td>-73.982050</td>\n",
       "      <td>20756</td>\n",
       "      <td>Subscriber</td>\n",
       "      <td>1977</td>\n",
       "      <td>1</td>\n",
       "    </tr>\n",
       "  </tbody>\n",
       "</table>\n",
       "</div>"
      ],
      "text/plain": [
       "   tripduration            starttime             stoptime  start station id  \\\n",
       "0           949  2014-03-01 00:00:16  2014-03-01 00:16:05               317   \n",
       "1           533  2014-03-01 00:00:57  2014-03-01 00:09:50               457   \n",
       "2           122  2014-03-01 00:01:06  2014-03-01 00:03:08               146   \n",
       "3           134  2014-03-01 00:01:14  2014-03-01 00:03:28               146   \n",
       "4           997  2014-03-01 00:01:18  2014-03-01 00:17:55               150   \n",
       "\n",
       "     start station name  start station latitude  start station longitude  \\\n",
       "0     E 6 St & Avenue B               40.724537               -73.981854   \n",
       "1    Broadway & W 58 St               40.766953               -73.981693   \n",
       "2  Hudson St & Reade St               40.716250               -74.009106   \n",
       "3  Hudson St & Reade St               40.716250               -74.009106   \n",
       "4     E 2 St & Avenue C               40.720874               -73.980858   \n",
       "\n",
       "   end station id         end station name  end station latitude  \\\n",
       "0             284    Greenwich Ave & 8 Ave             40.739017   \n",
       "1             441          E 52 St & 2 Ave             40.756014   \n",
       "2             276  Duane St & Greenwich St             40.717488   \n",
       "3             276  Duane St & Greenwich St             40.717488   \n",
       "4             461          E 20 St & 2 Ave             40.735877   \n",
       "\n",
       "   end station longitude  bikeid    usertype birth year  gender  \n",
       "0             -74.002638   17440  Subscriber       1942       1  \n",
       "1             -73.967416   20855  Subscriber       1960       1  \n",
       "2             -74.010455   15822  Subscriber       1984       1  \n",
       "3             -74.010455   17793  Subscriber       1985       1  \n",
       "4             -73.982050   20756  Subscriber       1977       1  "
      ]
     },
     "execution_count": 2,
     "metadata": {},
     "output_type": "execute_result"
    }
   ],
   "source": [
    "import pandas as pd\n",
    "df = pd.read_csv('/Users/Andy/2014-03 - Citi Bike trip data.csv',parse_dates=True)\n",
    "df.head()"
   ]
  },
  {
   "cell_type": "markdown",
   "metadata": {},
   "source": [
    "Now I want to store this data in my SQL database. We can create a SQL table w/ the Pandas method **to_sql**."
   ]
  },
  {
   "cell_type": "code",
   "execution_count": 3,
   "metadata": {
    "collapsed": false
   },
   "outputs": [
    {
     "name": "stderr",
     "output_type": "stream",
     "text": [
      "/Users/Andy/anaconda3/lib/python3.6/site-packages/pandas/core/generic.py:1201: UserWarning: The spaces in these column names will not be changed. In pandas versions < 0.14, spaces were converted to underscores.\n",
      "  chunksize=chunksize, dtype=dtype)\n"
     ]
    }
   ],
   "source": [
    "df.to_sql(\"rides\",con,if_exists='replace',index=False) "
   ]
  },
  {
   "cell_type": "markdown",
   "metadata": {},
   "source": [
    "This will write the data frame to a table called “rides”. The *if_exists* parameter specifies what to do if a table of the same name already exists. \n",
    "- '*replace*' will replace the pre-existing table. \n",
    "- '*fail*' will return an error (useful if you want to be sure you don’t overwrite a table). - - '*append*' will add to the table.\n",
    "\n",
    "Now we need to read data from the database. This is done w/ the pandas **read_sql_query** method. For example, if I want to get all the rows where tripduration was less than 500, I would use:"
   ]
  },
  {
   "cell_type": "code",
   "execution_count": 4,
   "metadata": {
    "collapsed": false
   },
   "outputs": [
    {
     "data": {
      "text/html": [
       "<div>\n",
       "<table border=\"1\" class=\"dataframe\">\n",
       "  <thead>\n",
       "    <tr style=\"text-align: right;\">\n",
       "      <th></th>\n",
       "      <th>tripduration</th>\n",
       "      <th>starttime</th>\n",
       "      <th>stoptime</th>\n",
       "      <th>start station id</th>\n",
       "      <th>start station name</th>\n",
       "      <th>start station latitude</th>\n",
       "      <th>start station longitude</th>\n",
       "      <th>end station id</th>\n",
       "      <th>end station name</th>\n",
       "      <th>end station latitude</th>\n",
       "      <th>end station longitude</th>\n",
       "      <th>bikeid</th>\n",
       "      <th>usertype</th>\n",
       "      <th>birth year</th>\n",
       "      <th>gender</th>\n",
       "    </tr>\n",
       "  </thead>\n",
       "  <tbody>\n",
       "    <tr>\n",
       "      <th>0</th>\n",
       "      <td>122</td>\n",
       "      <td>2014-03-01 00:01:06</td>\n",
       "      <td>2014-03-01 00:03:08</td>\n",
       "      <td>146</td>\n",
       "      <td>Hudson St &amp; Reade St</td>\n",
       "      <td>40.716250</td>\n",
       "      <td>-74.009106</td>\n",
       "      <td>276</td>\n",
       "      <td>Duane St &amp; Greenwich St</td>\n",
       "      <td>40.717488</td>\n",
       "      <td>-74.010455</td>\n",
       "      <td>15822</td>\n",
       "      <td>Subscriber</td>\n",
       "      <td>1984</td>\n",
       "      <td>1</td>\n",
       "    </tr>\n",
       "    <tr>\n",
       "      <th>1</th>\n",
       "      <td>134</td>\n",
       "      <td>2014-03-01 00:01:14</td>\n",
       "      <td>2014-03-01 00:03:28</td>\n",
       "      <td>146</td>\n",
       "      <td>Hudson St &amp; Reade St</td>\n",
       "      <td>40.716250</td>\n",
       "      <td>-74.009106</td>\n",
       "      <td>276</td>\n",
       "      <td>Duane St &amp; Greenwich St</td>\n",
       "      <td>40.717488</td>\n",
       "      <td>-74.010455</td>\n",
       "      <td>17793</td>\n",
       "      <td>Subscriber</td>\n",
       "      <td>1985</td>\n",
       "      <td>1</td>\n",
       "    </tr>\n",
       "    <tr>\n",
       "      <th>2</th>\n",
       "      <td>231</td>\n",
       "      <td>2014-03-01 00:02:08</td>\n",
       "      <td>2014-03-01 00:05:59</td>\n",
       "      <td>384</td>\n",
       "      <td>Fulton St &amp; Waverly Ave</td>\n",
       "      <td>40.683178</td>\n",
       "      <td>-73.965964</td>\n",
       "      <td>399</td>\n",
       "      <td>Lafayette Ave &amp; St James Pl</td>\n",
       "      <td>40.688515</td>\n",
       "      <td>-73.964763</td>\n",
       "      <td>20117</td>\n",
       "      <td>Subscriber</td>\n",
       "      <td>1982</td>\n",
       "      <td>1</td>\n",
       "    </tr>\n",
       "    <tr>\n",
       "      <th>3</th>\n",
       "      <td>387</td>\n",
       "      <td>2014-03-01 00:02:24</td>\n",
       "      <td>2014-03-01 00:08:51</td>\n",
       "      <td>521</td>\n",
       "      <td>8 Ave &amp; W 31 St</td>\n",
       "      <td>40.750450</td>\n",
       "      <td>-73.994811</td>\n",
       "      <td>529</td>\n",
       "      <td>W 42 St &amp; 8 Ave</td>\n",
       "      <td>40.757570</td>\n",
       "      <td>-73.990985</td>\n",
       "      <td>18856</td>\n",
       "      <td>Subscriber</td>\n",
       "      <td>1975</td>\n",
       "      <td>2</td>\n",
       "    </tr>\n",
       "    <tr>\n",
       "      <th>4</th>\n",
       "      <td>115</td>\n",
       "      <td>2014-03-01 00:02:28</td>\n",
       "      <td>2014-03-01 00:04:23</td>\n",
       "      <td>438</td>\n",
       "      <td>St Marks Pl &amp; 1 Ave</td>\n",
       "      <td>40.727791</td>\n",
       "      <td>-73.985649</td>\n",
       "      <td>438</td>\n",
       "      <td>St Marks Pl &amp; 1 Ave</td>\n",
       "      <td>40.727791</td>\n",
       "      <td>-73.985649</td>\n",
       "      <td>20922</td>\n",
       "      <td>Subscriber</td>\n",
       "      <td>1994</td>\n",
       "      <td>2</td>\n",
       "    </tr>\n",
       "  </tbody>\n",
       "</table>\n",
       "</div>"
      ],
      "text/plain": [
       "   tripduration            starttime             stoptime  start station id  \\\n",
       "0           122  2014-03-01 00:01:06  2014-03-01 00:03:08               146   \n",
       "1           134  2014-03-01 00:01:14  2014-03-01 00:03:28               146   \n",
       "2           231  2014-03-01 00:02:08  2014-03-01 00:05:59               384   \n",
       "3           387  2014-03-01 00:02:24  2014-03-01 00:08:51               521   \n",
       "4           115  2014-03-01 00:02:28  2014-03-01 00:04:23               438   \n",
       "\n",
       "        start station name  start station latitude  start station longitude  \\\n",
       "0     Hudson St & Reade St               40.716250               -74.009106   \n",
       "1     Hudson St & Reade St               40.716250               -74.009106   \n",
       "2  Fulton St & Waverly Ave               40.683178               -73.965964   \n",
       "3          8 Ave & W 31 St               40.750450               -73.994811   \n",
       "4      St Marks Pl & 1 Ave               40.727791               -73.985649   \n",
       "\n",
       "   end station id             end station name  end station latitude  \\\n",
       "0             276      Duane St & Greenwich St             40.717488   \n",
       "1             276      Duane St & Greenwich St             40.717488   \n",
       "2             399  Lafayette Ave & St James Pl             40.688515   \n",
       "3             529              W 42 St & 8 Ave             40.757570   \n",
       "4             438          St Marks Pl & 1 Ave             40.727791   \n",
       "\n",
       "   end station longitude  bikeid    usertype birth year  gender  \n",
       "0             -74.010455   15822  Subscriber       1984       1  \n",
       "1             -74.010455   17793  Subscriber       1985       1  \n",
       "2             -73.964763   20117  Subscriber       1982       1  \n",
       "3             -73.990985   18856  Subscriber       1975       2  \n",
       "4             -73.985649   20922  Subscriber       1994       2  "
      ]
     },
     "execution_count": 4,
     "metadata": {},
     "output_type": "execute_result"
    }
   ],
   "source": [
    "df = pd.read_sql_query(\"SELECT * FROM rides WHERE tripduration < 500 \",con)\n",
    "df.head()"
   ]
  },
  {
   "cell_type": "markdown",
   "metadata": {},
   "source": [
    "Note you don’t actually have to capitalize the SQL query commands, but it is standard practice, and makes them much easier to read. The nice thing about using this method to query the databse is that it returns the results of the query in a Pandas dataframe, which you can then easily manipulate or analyze.\n",
    "\n",
    "In this example i’ve only used one month of data, which could could have handled in memory. But in the project i’m working on, i’ll be analyzing years of data, which is much too large to load into memory. One option would be to read it in chunks and perform operations on each chunk. But that is clunky and would require re-reading the data for every new query I want to make. Storing the data in a SQL database allows me to easily and quickly query the entire dataset, and have the results immediately available for analysis in python. \n",
    "\n"
   ]
  },
  {
   "cell_type": "markdown",
   "metadata": {},
   "source": [
    "Some resources I found helpful:\n",
    "- https://www.dataquest.io/blog/python-pandas-databases/\n",
    "- http://www.datacarpentry.org/python-ecology-lesson/08-working-with-sql/\n",
    "- https://pandas.pydata.org/pandas-docs/stable/io.html#sql-queries"
   ]
  },
  {
   "cell_type": "code",
   "execution_count": null,
   "metadata": {
    "collapsed": true
   },
   "outputs": [],
   "source": []
  }
 ],
 "metadata": {
  "kernelspec": {
   "display_name": "Python 3",
   "language": "python",
   "name": "python3"
  },
  "language_info": {
   "codemirror_mode": {
    "name": "ipython",
    "version": 3
   },
   "file_extension": ".py",
   "mimetype": "text/x-python",
   "name": "python",
   "nbconvert_exporter": "python",
   "pygments_lexer": "ipython3",
   "version": "3.6.0"
  }
 },
 "nbformat": 4,
 "nbformat_minor": 2
}
